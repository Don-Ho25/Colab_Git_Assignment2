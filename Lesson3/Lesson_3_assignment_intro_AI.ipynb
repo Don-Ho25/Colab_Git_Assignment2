{
  "nbformat": 4,
  "nbformat_minor": 0,
  "metadata": {
    "colab": {
      "provenance": []
    },
    "kernelspec": {
      "name": "python3",
      "display_name": "Python 3"
    },
    "language_info": {
      "name": "python"
    }
  },
  "cells": [
    {
      "cell_type": "markdown",
      "source": [
        "## **ASSIGNMENT 3**\n",
        "### DONG"
      ],
      "metadata": {
        "id": "kKCIlfklSrTw"
      }
    },
    {
      "cell_type": "code",
      "execution_count": 2,
      "metadata": {
        "id": "dnmV0gINSR23",
        "colab": {
          "base_uri": "https://localhost:8080/"
        },
        "outputId": "b07ac2f5-7504-44a9-93e8-63009779dae9"
      },
      "outputs": [
        {
          "output_type": "stream",
          "name": "stdout",
          "text": [
            "Book: Python Programming, Quantity: 5, Price: $29.99, Available: True\n"
          ]
        }
      ],
      "source": [
        "# Python Library Management System\n",
        "\n",
        "# Install required libraries (This should already exist in colab)\n",
        "# !pip install requests\n",
        "\n",
        "import pickle\n",
        "import sqlite3\n",
        "import requests\n",
        "\n",
        "# 1. Data Types and Variables\n",
        "book_title = \"Python Programming\"\n",
        "book_quantity = 5\n",
        "book_price = 29.99\n",
        "is_available = True\n",
        "\n",
        "print(f\"Book: {book_title}, Quantity: {book_quantity}, Price: ${book_price}, Available: {is_available}\")\n"
      ]
    },
    {
      "cell_type": "code",
      "source": [
        "\n",
        "# 2. Lists\n",
        "books = [\"Python Basics\", \"Advanced Python\", \"Data Science with Python\"]\n",
        "\n",
        "# TODO: Add two more books to the list\n",
        "# books.append(...)\n",
        "# books.insert(...)\n",
        "\n",
        "print(\"Updated book list:\", books)\n"
      ],
      "metadata": {
        "colab": {
          "base_uri": "https://localhost:8080/"
        },
        "id": "kdWF1nsl4g6o",
        "outputId": "04e69bb3-be8f-4158-9bcd-10a573c8f973"
      },
      "execution_count": 3,
      "outputs": [
        {
          "output_type": "stream",
          "name": "stdout",
          "text": [
            "Updated book list: ['Python Basics', 'Advanced Python', 'Data Science with Python']\n"
          ]
        }
      ]
    },
    {
      "cell_type": "code",
      "source": [
        "books = [\"Python Basics\", \"Advanced Python\", \"Data Science with Python\"]\n",
        "\n",
        "# Add two more books to the list\n",
        "books.append(\"Introduction to AI\")\n",
        "books.insert(1, \"Python Crash Course\")\n",
        "\n",
        "print(\"Updated book list:\", books)"
      ],
      "metadata": {
        "colab": {
          "base_uri": "https://localhost:8080/"
        },
        "id": "c3Hlgqrw5hnO",
        "outputId": "fa184b74-3f54-43cf-ceaa-a61ea082616b"
      },
      "execution_count": 4,
      "outputs": [
        {
          "output_type": "stream",
          "name": "stdout",
          "text": [
            "Updated book list: ['Python Basics', 'Python Crash Course', 'Advanced Python', 'Data Science with Python', 'Introduction to AI']\n"
          ]
        }
      ]
    },
    {
      "cell_type": "code",
      "source": [
        "# 3. Loops and range()\n",
        "print(\"\\nAvailable books:\")\n",
        "# TODO: Use a for loop and range() to print books with their indices\n",
        "for ind in range(len(books)):\n",
        "    print(f\"The number {ind+1} book is {books[ind]}\")\n",
        "\n"
      ],
      "metadata": {
        "colab": {
          "base_uri": "https://localhost:8080/"
        },
        "id": "jFWG3XNV4wmk",
        "outputId": "92067ed7-5f44-4b0b-a080-508edf67eb4b"
      },
      "execution_count": 8,
      "outputs": [
        {
          "output_type": "stream",
          "name": "stdout",
          "text": [
            "\n",
            "Available books:\n",
            "The number 1 book is Python Basics\n",
            "The number 2 book is Python Crash Course\n",
            "The number 3 book is Advanced Python\n",
            "The number 4 book is Data Science with Python\n",
            "The number 5 book is Introduction to AI\n"
          ]
        }
      ]
    },
    {
      "cell_type": "code",
      "source": [
        "# 4. User Input\n",
        "new_book = input(\"Enter a new book title: \")\n",
        "books.append(new_book)\n",
        "print(\"Updated book list:\", books)"
      ],
      "metadata": {
        "colab": {
          "base_uri": "https://localhost:8080/"
        },
        "id": "vXM5C3Pj61Kn",
        "outputId": "c334c463-7e40-4461-8591-1fe3cb6b9d93"
      },
      "execution_count": 9,
      "outputs": [
        {
          "output_type": "stream",
          "name": "stdout",
          "text": [
            "Enter a new book title: Mastering Machine Learning on AWS \n",
            "Updated book list: ['Python Basics', 'Python Crash Course', 'Advanced Python', 'Data Science with Python', 'Introduction to AI', 'Mastering Machine Learning on AWS ']\n"
          ]
        }
      ]
    },
    {
      "cell_type": "code",
      "source": [
        "# 5. Functions and Conditional Statements\n",
        "def check_availability(book_name):\n",
        "  if book_name in books:\n",
        "    return True\n",
        "  else:\n",
        "    return False\n",
        "\n",
        " # Test the function\n",
        "print(f\"Is 'Python Basics' available? {check_availability('Pyton Basics')}\")\n"
      ],
      "metadata": {
        "colab": {
          "base_uri": "https://localhost:8080/"
        },
        "id": "VovFdD2h7VLy",
        "outputId": "0259671c-351b-4d95-b0aa-c2f568bc17ba"
      },
      "execution_count": 17,
      "outputs": [
        {
          "output_type": "stream",
          "name": "stdout",
          "text": [
            "Is 'Python Basics' available? False\n"
          ]
        }
      ]
    },
    {
      "cell_type": "code",
      "source": [
        "# 6. File I/O\n",
        "def save_books_to_file(filename):\n",
        "    with open(filename, 'w') as f:\n",
        "        for book in books:\n",
        "            f.write(f\"{book}\\n\")\n",
        "\n",
        "# TODO: Implement a function to read books from a file\n",
        "def read_books_from_file(filename):\n",
        "    read_books = []\n",
        "    with open(filename, 'r') as f2:\n",
        "        for line in f2:\n",
        "            read_books.append(line.strip())  # Remove leading/trailing whitespace and newline characters\n",
        "    return read_books\n",
        "print(f'{read_books_from_file(\"books.txt\")}\\n')\n",
        "\n",
        "# Test file I/O\n",
        "save_books_to_file(\"books.txt\")\n",
        "!cat books.txt  # Display file contents in Colab\n"
      ],
      "metadata": {
        "colab": {
          "base_uri": "https://localhost:8080/"
        },
        "id": "XpL2LHqF9CAp",
        "outputId": "adc2145c-de51-4444-cb77-e2d21dac86d3"
      },
      "execution_count": 30,
      "outputs": [
        {
          "output_type": "stream",
          "name": "stdout",
          "text": [
            "['Python Basics', 'Python Crash Course', 'Advanced Python', 'Data Science with Python', 'Introduction to AI', 'Mastering Machine Learning on AWS']\n",
            "\n",
            "Python Basics\n",
            "Python Crash Course\n",
            "Advanced Python\n",
            "Data Science with Python\n",
            "Introduction to AI\n",
            "Mastering Machine Learning on AWS \n"
          ]
        }
      ]
    },
    {
      "cell_type": "code",
      "source": [
        "# 7. Pickle for serialization\n",
        "\n",
        "import pickle\n",
        "\n",
        "books = [\"Python Basics\", \"Python for Beginners\", \"Advanced Python\", \"Data Science with Python\", \"Machine Learning with Python\"]\n",
        "\n",
        "def save_books_pickle(filename):\n",
        "    \"\"\"Saves the current list of books to a file using pickle.\"\"\"\n",
        "    with open(filename, 'wb') as f: # 'wb' for write binary\n",
        "        pickle.dump(books, f)\n",
        "\n",
        "# Implement a function to load books using pickle\n",
        "def load_books_pickle(filename):\n",
        "    \"\"\"\n",
        "    Loads a list of books from a file that was saved using pickle.\n",
        "    \"\"\"\n",
        "    try:\n",
        "        with open(filename, 'rb') as f: # 'rb' for read binary\n",
        "            loaded_books = pickle.load(f)\n",
        "        return loaded_books\n",
        "    except FileNotFoundError:\n",
        "        print(f\"Error: The file '{filename}' was not found.\")\n",
        "        return [] # Return an empty list if the file doesn't exist\n",
        "    except Exception as e:\n",
        "        print(f\"An error occurred while loading from '{filename}': {e}\")\n",
        "        return [] # Return an empty list for other errors\n",
        "\n",
        "\n",
        "# Test pickle functions\n",
        "save_books_pickle(\"books.pkl\")\n",
        "# Uncomment the next line after implementing load_books_pickle\n",
        "print(\"Books loaded from pickle:\", load_books_pickle(\"books.pkl\"))\n",
        "\n"
      ],
      "metadata": {
        "colab": {
          "base_uri": "https://localhost:8080/"
        },
        "id": "U22fCEvF_HgG",
        "outputId": "f31afa76-444c-4b19-ba07-7b1a0c6e6307"
      },
      "execution_count": 35,
      "outputs": [
        {
          "output_type": "stream",
          "name": "stdout",
          "text": [
            "Books loaded from pickle: ['Python Basics', 'Python for Beginners', 'Advanced Python', 'Data Science with Python', 'Machine Learning with Python']\n"
          ]
        }
      ]
    },
    {
      "cell_type": "code",
      "source": [],
      "metadata": {
        "id": "-F3Ml2WqHuIr"
      },
      "execution_count": null,
      "outputs": []
    },
    {
      "cell_type": "code",
      "source": [
        "# 8. SQLite Database Interaction\n",
        "def create_books_table():\n",
        "    conn = sqlite3.connect('library.db')\n",
        "    cursor = conn.cursor()\n",
        "    cursor.execute('''CREATE TABLE IF NOT EXISTS books\n",
        "                      (id INTEGER PRIMARY KEY, title TEXT, quantity INTEGER)''')\n",
        "    conn.commit()\n",
        "    conn.close()\n",
        "\n",
        "#Implement a function to add a book to the SQLite database\n",
        "\n",
        "def add_book_to_db(title, quantity):\n",
        "    \"\"\"\n",
        "    Adds a new book record to the 'books' table in 'library.db'.\n",
        "\n",
        "    title (str): The title of the book.\n",
        "    quantity (int): The number of copies available.\n",
        "    \"\"\"\n",
        "    conn = sqlite3.connect('library.db')\n",
        "    cursor = conn.cursor()\n",
        "    # try:\n",
        "    cursor.execute(\"INSERT INTO books (title, quantity) VALUES (?, ?)\", (title, quantity))\n",
        "    conn.commit()\n",
        "    print(f\"Book '{title}' with quantity {quantity} added successfully to the database.\")\n",
        "\n",
        "\n",
        "# Test database functions\n",
        "create_books_table()\n",
        "# Uncomment the next line after implementing add_book_to_db\n",
        "add_book_to_db(\"Python for Beginners\", 10)\n",
        "\n"
      ],
      "metadata": {
        "colab": {
          "base_uri": "https://localhost:8080/"
        },
        "id": "hr7lNa7PIRWf",
        "outputId": "8e428800-69a1-4b7b-e512-0b308e48dece"
      },
      "execution_count": 37,
      "outputs": [
        {
          "output_type": "stream",
          "name": "stdout",
          "text": [
            "Book 'Python for Beginners' with quantity 10 added successfully to the database.\n"
          ]
        }
      ]
    },
    {
      "cell_type": "code",
      "source": [
        "# 9. Web API Interaction (GitHub API)\n",
        "def get_python_repos():\n",
        "    url = \"https://api.github.com/search/repositories\"\n",
        "    params = {\"q\": \"language:python\", \"sort\": \"stars\", \"order\": \"desc\"}\n",
        "    response = requests.get(url, params=params)\n",
        "    data = response.json()\n",
        "    return [repo['name'] for repo in data['items'][:5]]\n",
        "\n",
        "# Test API function\n",
        "print(\"Top 5 Python repositories on GitHub:\", get_python_repos())\n",
        "\n",
        "print(\"\\nLibrary Management System operations completed.\")"
      ],
      "metadata": {
        "colab": {
          "base_uri": "https://localhost:8080/"
        },
        "id": "46pGooKm58mK",
        "outputId": "6202e04e-b4e1-4ef1-8272-ab3a1359f5d5"
      },
      "execution_count": 38,
      "outputs": [
        {
          "output_type": "stream",
          "name": "stdout",
          "text": [
            "Top 5 Python repositories on GitHub: ['free-programming-books', 'public-apis', 'system-design-primer', 'awesome-python', 'Python']\n",
            "\n",
            "Library Management System operations completed.\n"
          ]
        }
      ]
    },
    {
      "cell_type": "code",
      "source": [],
      "metadata": {
        "id": "Grr1vcMM6xvN"
      },
      "execution_count": null,
      "outputs": []
    }
  ]
}